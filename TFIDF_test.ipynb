{
 "cells": [
  {
   "cell_type": "markdown",
   "id": "67e6b7c9",
   "metadata": {},
   "source": [
    "# Raw Data"
   ]
  },
  {
   "cell_type": "code",
   "execution_count": 1,
   "id": "667ab6f4",
   "metadata": {},
   "outputs": [
    {
     "name": "stdout",
     "output_type": "stream",
     "text": [
      "process0\n",
      "process30\n",
      "process60\n",
      "process90\n",
      "process120\n",
      "112290\n"
     ]
    }
   ],
   "source": [
    "import csv\n",
    "from os import listdir\n",
    "from os.path import isfile, join\n",
    "import json\n",
    "source_data_path = '/Users/weizhechen/Desktop/KKMA/'\n",
    "metadata_folder = 'metadata'\n",
    "movie = []\n",
    "count = 0\n",
    "concat_folder = join(source_data_path,metadata_folder)\n",
    "for filename in listdir(concat_folder):\n",
    "    if 'branch_movie' not in filename and 'branch_series' not in filename:\n",
    "        continue\n",
    "    if count % 30 == 0:\n",
    "        print(f'process{count}')\n",
    "    count += 1\n",
    "    with open(join(concat_folder,filename),'r',encoding='utf-8') as fp:\n",
    "        for line in fp.readlines():\n",
    "            data = json.loads(line)\n",
    "            movie.append(data)\n",
    "print(len(movie))"
   ]
  },
  {
   "cell_type": "code",
   "execution_count": 2,
   "id": "2cc9b424",
   "metadata": {},
   "outputs": [],
   "source": [
    "import pandas as pd\n",
    "movie_and_series_df = pd.DataFrame(movie)\n",
    "genere_df = pd.read_csv('/Users/weizhechen/Desktop/KKMA/Genre_20190806.csv')"
   ]
  },
  {
   "cell_type": "code",
   "execution_count": 3,
   "id": "c474a865",
   "metadata": {},
   "outputs": [
    {
     "data": {
      "text/plain": [
       "112290"
      ]
     },
     "execution_count": 3,
     "metadata": {},
     "output_type": "execute_result"
    }
   ],
   "source": [
    "# 標記是否有artist以及genre\n",
    "have_artists = list(movie_and_series_df['artists'].notnull())\n",
    "have_genre_ids = list(movie_and_series_df['genre_ids'].notnull())\n",
    "dict = {\n",
    "    'have_artists':have_artists,\n",
    "    'have_genre_ids':have_genre_ids\n",
    "}\n",
    "df = pd.DataFrame(dict)\n",
    "movie_and_series_df = pd.merge(df, movie_and_series_df ,how='outer',left_index=True, right_index=True)\n",
    "len(movie_and_series_df) # 原本所有電影總數"
   ]
  },
  {
   "cell_type": "code",
   "execution_count": 4,
   "id": "2c7c1b49",
   "metadata": {},
   "outputs": [
    {
     "data": {
      "text/plain": [
       "36434"
      ]
     },
     "execution_count": 4,
     "metadata": {},
     "output_type": "execute_result"
    }
   ],
   "source": [
    "clean_movie_and_series_df = movie_and_series_df[(movie_and_series_df.have_genre_ids == True)\n",
    "                & (movie_and_series_df.have_artists == True) ].reset_index(drop=True)\n",
    "len(clean_movie_and_series_df) # 去除沒有genre 和 artist後所剩總數"
   ]
  },
  {
   "cell_type": "code",
   "execution_count": 5,
   "id": "a74d9eb5",
   "metadata": {},
   "outputs": [
    {
     "data": {
      "text/plain": [
       "12315"
      ]
     },
     "execution_count": 5,
     "metadata": {},
     "output_type": "execute_result"
    }
   ],
   "source": [
    "# 留下{'', 'G', 'R-18', 'R-15', 'PG-12', ''}\n",
    "import numpy as np\n",
    "lst = clean_movie_and_series_df['content_rating'].to_list()\n",
    "content_rating_list = np.array(lst)\n",
    "rating_list_index = np.where((content_rating_list == 'R-20') | (content_rating_list == 'R-18E'))\n",
    "len(list(rating_list_index)[0]) #去除R-20 R-18E"
   ]
  },
  {
   "cell_type": "code",
   "execution_count": 6,
   "id": "9d060114",
   "metadata": {},
   "outputs": [
    {
     "name": "stderr",
     "output_type": "stream",
     "text": [
      "/Users/weizhechen/opt/anaconda3/envs/pytorch_envs/lib/python3.8/site-packages/pandas/core/indexes/base.py:5055: FutureWarning: Using a non-tuple sequence for multidimensional indexing is deprecated; use `arr[tuple(seq)]` instead of `arr[seq]`. In the future this will be interpreted as an array index, `arr[np.array(seq)]`, which will result either in an error or a different result.\n",
      "  result = getitem(key)\n"
     ]
    }
   ],
   "source": [
    "legitimat_df = clean_movie_and_series_df.drop(clean_movie_and_series_df.index[list(rating_list_index)]).reset_index(drop=True)"
   ]
  },
  {
   "cell_type": "code",
   "execution_count": 7,
   "id": "395fef01",
   "metadata": {},
   "outputs": [
    {
     "data": {
      "text/plain": [
       "24119"
      ]
     },
     "execution_count": 7,
     "metadata": {},
     "output_type": "execute_result"
    }
   ],
   "source": [
    "len(legitimat_df)# 所剩合法電影總數"
   ]
  },
  {
   "cell_type": "code",
   "execution_count": 8,
   "id": "fb0be667",
   "metadata": {},
   "outputs": [
    {
     "data": {
      "text/plain": [
       "91538"
      ]
     },
     "execution_count": 8,
     "metadata": {},
     "output_type": "execute_result"
    }
   ],
   "source": [
    "dd = clean_movie_and_series_df['artists'].to_list()\n",
    "all_name = []\n",
    "for name_list in dd:\n",
    "    for name in name_list:\n",
    "        all_name.append(name)\n",
    "len(set(all_name)) #總演員數"
   ]
  },
  {
   "cell_type": "code",
   "execution_count": 9,
   "id": "0c0aa5d4",
   "metadata": {},
   "outputs": [
    {
     "data": {
      "text/plain": [
       "2492"
      ]
     },
     "execution_count": 9,
     "metadata": {},
     "output_type": "execute_result"
    }
   ],
   "source": [
    "j = 0\n",
    "all_artists = list(set(all_name))\n",
    "number = set([str(i) for i in range(10)])\n",
    "for i in range(len(all_artists)):\n",
    "    for num in number:\n",
    "            if num in all_artists[i]:\n",
    "                j +=1\n",
    "j #可疑演員總數"
   ]
  },
  {
   "cell_type": "code",
   "execution_count": 10,
   "id": "fc44a91f",
   "metadata": {},
   "outputs": [
    {
     "name": "stdout",
     "output_type": "stream",
     "text": [
      "112290\n",
      "410261\n",
      "406444\n"
     ]
    }
   ],
   "source": [
    "all_count = 0\n",
    "valid_count = 0\n",
    "strange_artist = []\n",
    "j = 0 \n",
    "number = set([str(i) for i in range(10)])\n",
    "movie_length = len(movie)\n",
    "print(movie_length)\n",
    "for i in range(movie_length):\n",
    "\n",
    "    if movie[i]['artists'] == None:\n",
    "        continue\n",
    "\n",
    "    for artist in movie[i]['artists']:\n",
    "        all_count += 1\n",
    "        valid = True\n",
    "        for num in number:\n",
    "            if num in artist:\n",
    "                strange_artist.append(artist)\n",
    "                valid = False\n",
    "                break\n",
    "        if valid:\n",
    "            valid_count += 1\n",
    "#             print(artist)\n",
    "\n",
    "print(all_count)\n",
    "print(valid_count) #可疑演員總數"
   ]
  },
  {
   "cell_type": "code",
   "execution_count": 11,
   "id": "b614553d",
   "metadata": {},
   "outputs": [
    {
     "data": {
      "text/plain": [
       "['計22人',\n",
       " '6名',\n",
       " 'AIKA 他計7名',\n",
       " '30名',\n",
       " '10GAUGE',\n",
       " '一見清楚なM婦人3人',\n",
       " '豪華女優33人',\n",
       " '4名',\n",
       " '4名',\n",
       " '素●12人',\n",
       " '6名',\n",
       " '超絶美貌の女子大生3人',\n",
       " '歪んだ愛情をむけられた義母6人',\n",
       " '五十路六十路義母30人',\n",
       " '60名',\n",
       " '飯島麗華 他計8人',\n",
       " '人妻モデル4人',\n",
       " '美人で可愛いお姉さま4人',\n",
       " 'ヨガインストラクター15人',\n",
       " '4名']"
      ]
     },
     "execution_count": 11,
     "metadata": {},
     "output_type": "execute_result"
    }
   ],
   "source": [
    "strange_artist[0:20] #可疑演員內容"
   ]
  },
  {
   "cell_type": "code",
   "execution_count": 12,
   "id": "15d650ee",
   "metadata": {},
   "outputs": [
    {
     "name": "stderr",
     "output_type": "stream",
     "text": [
      "/var/folders/f3/m87mf4rx0w17bqc2l_gc5lm80000gp/T/ipykernel_15662/4008358145.py:2: VisibleDeprecationWarning: Creating an ndarray from ragged nested sequences (which is a list-or-tuple of lists-or-tuples-or ndarrays with different lengths or shapes) is deprecated. If you meant to do this, you must specify 'dtype=object' when creating the ndarray.\n",
      "  artists_list = np.array(df_list)\n"
     ]
    }
   ],
   "source": [
    "df_list = legitimat_df['artists'].to_list()\n",
    "artists_list = np.array(df_list)"
   ]
  },
  {
   "cell_type": "code",
   "execution_count": 13,
   "id": "84db524c",
   "metadata": {},
   "outputs": [
    {
     "data": {
      "text/plain": [
       "475"
      ]
     },
     "execution_count": 13,
     "metadata": {},
     "output_type": "execute_result"
    }
   ],
   "source": [
    "strange_nameindex = []\n",
    "i = 0\n",
    "for movie_artist in artists_list:\n",
    "    for artist_name in movie_artist:\n",
    "        if artist_name in set(strange_artist):\n",
    "            i +=1\n",
    "i"
   ]
  },
  {
   "cell_type": "code",
   "execution_count": 14,
   "id": "b1d64d42",
   "metadata": {},
   "outputs": [
    {
     "data": {
      "text/plain": [
       "82580"
      ]
     },
     "execution_count": 14,
     "metadata": {},
     "output_type": "execute_result"
    }
   ],
   "source": [
    "all_artist_name = [] #用來製作matrix所需演員名單\n",
    "for name_list in df_list:\n",
    "    for name in name_list:\n",
    "        all_artist_name.append(name)\n",
    "len(set(all_artist_name)) #所有合法電影中演員總數"
   ]
  },
  {
   "cell_type": "markdown",
   "id": "39d22cad",
   "metadata": {},
   "source": [
    "# 篩選合法行為"
   ]
  },
  {
   "cell_type": "code",
   "execution_count": 15,
   "id": "6c45c563",
   "metadata": {},
   "outputs": [],
   "source": [
    "interaction_df = pd.read_csv('/Users/weizhechen/Desktop/KKMA/interactions_test.csv')"
   ]
  },
  {
   "cell_type": "code",
   "execution_count": 16,
   "id": "8e792ce0",
   "metadata": {},
   "outputs": [
    {
     "data": {
      "text/plain": [
       "24119"
      ]
     },
     "execution_count": 16,
     "metadata": {},
     "output_type": "execute_result"
    }
   ],
   "source": [
    "interaction_df\n",
    "legitimat_id = legitimat_df['id'].to_list()\n",
    "len(legitimat_id)"
   ]
  },
  {
   "cell_type": "code",
   "execution_count": 17,
   "id": "066f4cca",
   "metadata": {},
   "outputs": [],
   "source": [
    "illegal_ID_index = []\n",
    "ID_list = interaction_df['item_id'].to_list()\n",
    "length = len(ID_list)\n",
    "for i in range(length):\n",
    "    if ID_list[i] not in set(legitimat_id):\n",
    "        illegal_ID_index.append(i)"
   ]
  },
  {
   "cell_type": "code",
   "execution_count": 18,
   "id": "f8cc2bf6",
   "metadata": {},
   "outputs": [],
   "source": [
    "clean_interaction_df = interaction_df.drop(index=illegal_ID_index).reset_index(drop=True)"
   ]
  },
  {
   "cell_type": "code",
   "execution_count": 19,
   "id": "01d30664",
   "metadata": {},
   "outputs": [
    {
     "data": {
      "text/plain": [
       "(4299, 9999)"
      ]
     },
     "execution_count": 19,
     "metadata": {},
     "output_type": "execute_result"
    }
   ],
   "source": [
    "len(clean_interaction_df),len(interaction_df) #所剩可比對的行為與全部行為"
   ]
  },
  {
   "cell_type": "code",
   "execution_count": 20,
   "id": "6b008e33",
   "metadata": {},
   "outputs": [
    {
     "data": {
      "text/plain": [
       "2783"
      ]
     },
     "execution_count": 20,
     "metadata": {},
     "output_type": "execute_result"
    }
   ],
   "source": [
    "Group_id = clean_interaction_df.groupby('user_id')\n",
    "user_ids = list(Group_id.groups.keys())\n",
    "len(user_ids) #所有使用者的id"
   ]
  },
  {
   "cell_type": "code",
   "execution_count": 21,
   "id": "86beeeea",
   "metadata": {},
   "outputs": [
    {
     "data": {
      "text/html": [
       "<div>\n",
       "<style scoped>\n",
       "    .dataframe tbody tr th:only-of-type {\n",
       "        vertical-align: middle;\n",
       "    }\n",
       "\n",
       "    .dataframe tbody tr th {\n",
       "        vertical-align: top;\n",
       "    }\n",
       "\n",
       "    .dataframe thead th {\n",
       "        text-align: right;\n",
       "    }\n",
       "</style>\n",
       "<table border=\"1\" class=\"dataframe\">\n",
       "  <thead>\n",
       "    <tr style=\"text-align: right;\">\n",
       "      <th></th>\n",
       "      <th>item_id</th>\n",
       "      <th>item_type</th>\n",
       "      <th>play_amount_second</th>\n",
       "      <th>client_upload_timestamp</th>\n",
       "      <th>server_upload_timestamp</th>\n",
       "      <th>interaction</th>\n",
       "      <th>pt</th>\n",
       "    </tr>\n",
       "    <tr>\n",
       "      <th>user_id</th>\n",
       "      <th></th>\n",
       "      <th></th>\n",
       "      <th></th>\n",
       "      <th></th>\n",
       "      <th></th>\n",
       "      <th></th>\n",
       "      <th></th>\n",
       "    </tr>\n",
       "  </thead>\n",
       "  <tbody>\n",
       "    <tr>\n",
       "      <th>0</th>\n",
       "      <td>6</td>\n",
       "      <td>6</td>\n",
       "      <td>6</td>\n",
       "      <td>6</td>\n",
       "      <td>6</td>\n",
       "      <td>6</td>\n",
       "      <td>6</td>\n",
       "    </tr>\n",
       "    <tr>\n",
       "      <th>0110030253-001CFCDD6750</th>\n",
       "      <td>1</td>\n",
       "      <td>1</td>\n",
       "      <td>1</td>\n",
       "      <td>1</td>\n",
       "      <td>1</td>\n",
       "      <td>1</td>\n",
       "      <td>1</td>\n",
       "    </tr>\n",
       "    <tr>\n",
       "      <th>0110034696-001CFC7974F8</th>\n",
       "      <td>1</td>\n",
       "      <td>1</td>\n",
       "      <td>1</td>\n",
       "      <td>1</td>\n",
       "      <td>1</td>\n",
       "      <td>1</td>\n",
       "      <td>1</td>\n",
       "    </tr>\n",
       "    <tr>\n",
       "      <th>0110044707-001CFC761498</th>\n",
       "      <td>2</td>\n",
       "      <td>2</td>\n",
       "      <td>2</td>\n",
       "      <td>2</td>\n",
       "      <td>2</td>\n",
       "      <td>2</td>\n",
       "      <td>2</td>\n",
       "    </tr>\n",
       "    <tr>\n",
       "      <th>0110104037-001CFC73C5BC</th>\n",
       "      <td>1</td>\n",
       "      <td>1</td>\n",
       "      <td>1</td>\n",
       "      <td>1</td>\n",
       "      <td>1</td>\n",
       "      <td>1</td>\n",
       "      <td>1</td>\n",
       "    </tr>\n",
       "    <tr>\n",
       "      <th>...</th>\n",
       "      <td>...</td>\n",
       "      <td>...</td>\n",
       "      <td>...</td>\n",
       "      <td>...</td>\n",
       "      <td>...</td>\n",
       "      <td>...</td>\n",
       "      <td>...</td>\n",
       "    </tr>\n",
       "    <tr>\n",
       "      <th>932556</th>\n",
       "      <td>3</td>\n",
       "      <td>3</td>\n",
       "      <td>3</td>\n",
       "      <td>3</td>\n",
       "      <td>3</td>\n",
       "      <td>3</td>\n",
       "      <td>3</td>\n",
       "    </tr>\n",
       "    <tr>\n",
       "      <th>941475</th>\n",
       "      <td>2</td>\n",
       "      <td>2</td>\n",
       "      <td>2</td>\n",
       "      <td>2</td>\n",
       "      <td>2</td>\n",
       "      <td>2</td>\n",
       "      <td>2</td>\n",
       "    </tr>\n",
       "    <tr>\n",
       "      <th>968792</th>\n",
       "      <td>1</td>\n",
       "      <td>1</td>\n",
       "      <td>1</td>\n",
       "      <td>1</td>\n",
       "      <td>1</td>\n",
       "      <td>1</td>\n",
       "      <td>1</td>\n",
       "    </tr>\n",
       "    <tr>\n",
       "      <th>983365</th>\n",
       "      <td>1</td>\n",
       "      <td>1</td>\n",
       "      <td>1</td>\n",
       "      <td>1</td>\n",
       "      <td>1</td>\n",
       "      <td>1</td>\n",
       "      <td>1</td>\n",
       "    </tr>\n",
       "    <tr>\n",
       "      <th>998986</th>\n",
       "      <td>1</td>\n",
       "      <td>1</td>\n",
       "      <td>1</td>\n",
       "      <td>1</td>\n",
       "      <td>1</td>\n",
       "      <td>1</td>\n",
       "      <td>1</td>\n",
       "    </tr>\n",
       "  </tbody>\n",
       "</table>\n",
       "<p>2783 rows × 7 columns</p>\n",
       "</div>"
      ],
      "text/plain": [
       "                         item_id  item_type  play_amount_second  \\\n",
       "user_id                                                           \n",
       "0                              6          6                   6   \n",
       "0110030253-001CFCDD6750        1          1                   1   \n",
       "0110034696-001CFC7974F8        1          1                   1   \n",
       "0110044707-001CFC761498        2          2                   2   \n",
       "0110104037-001CFC73C5BC        1          1                   1   \n",
       "...                          ...        ...                 ...   \n",
       "932556                         3          3                   3   \n",
       "941475                         2          2                   2   \n",
       "968792                         1          1                   1   \n",
       "983365                         1          1                   1   \n",
       "998986                         1          1                   1   \n",
       "\n",
       "                         client_upload_timestamp  server_upload_timestamp  \\\n",
       "user_id                                                                     \n",
       "0                                              6                        6   \n",
       "0110030253-001CFCDD6750                        1                        1   \n",
       "0110034696-001CFC7974F8                        1                        1   \n",
       "0110044707-001CFC761498                        2                        2   \n",
       "0110104037-001CFC73C5BC                        1                        1   \n",
       "...                                          ...                      ...   \n",
       "932556                                         3                        3   \n",
       "941475                                         2                        2   \n",
       "968792                                         1                        1   \n",
       "983365                                         1                        1   \n",
       "998986                                         1                        1   \n",
       "\n",
       "                         interaction  pt  \n",
       "user_id                                   \n",
       "0                                  6   6  \n",
       "0110030253-001CFCDD6750            1   1  \n",
       "0110034696-001CFC7974F8            1   1  \n",
       "0110044707-001CFC761498            2   2  \n",
       "0110104037-001CFC73C5BC            1   1  \n",
       "...                              ...  ..  \n",
       "932556                             3   3  \n",
       "941475                             2   2  \n",
       "968792                             1   1  \n",
       "983365                             1   1  \n",
       "998986                             1   1  \n",
       "\n",
       "[2783 rows x 7 columns]"
      ]
     },
     "execution_count": 21,
     "metadata": {},
     "output_type": "execute_result"
    }
   ],
   "source": [
    "string = 'user_id'\n",
    "freq = clean_interaction_df.groupby([string]).count() \n",
    "freq"
   ]
  },
  {
   "cell_type": "code",
   "execution_count": 22,
   "id": "8f863def",
   "metadata": {},
   "outputs": [
    {
     "data": {
      "text/plain": [
       "95"
      ]
     },
     "execution_count": 22,
     "metadata": {},
     "output_type": "execute_result"
    }
   ],
   "source": [
    "illegal_genre_index = []\n",
    "genere_list = genere_df['RatingValue'].to_list()\n",
    "length = len(genere_list)\n",
    "for i in range(length):\n",
    "    if genere_list[i] == 'R-20':\n",
    "        illegal_genre_index.append(i)\n",
    "len(illegal_genre_index) #非法genre總數"
   ]
  },
  {
   "cell_type": "code",
   "execution_count": 23,
   "id": "a3d24fe6",
   "metadata": {},
   "outputs": [
    {
     "data": {
      "text/plain": [
       "{'G'}"
      ]
     },
     "execution_count": 23,
     "metadata": {},
     "output_type": "execute_result"
    }
   ],
   "source": [
    "clean_genre_df = genere_df.drop(index=illegal_genre_index).reset_index(drop=True)\n",
    "set(clean_genre_df['RatingValue']) #確認所有genre皆為合法"
   ]
  },
  {
   "cell_type": "code",
   "execution_count": 24,
   "id": "9bfa69a0",
   "metadata": {},
   "outputs": [
    {
     "data": {
      "text/plain": [
       "373"
      ]
     },
     "execution_count": 24,
     "metadata": {},
     "output_type": "execute_result"
    }
   ],
   "source": [
    "genre_ids = clean_genre_df['GenreID'].to_list() #全部合法genre ids 作為matrix使用\n",
    "len(genre_ids)"
   ]
  },
  {
   "cell_type": "markdown",
   "id": "eeb41a20",
   "metadata": {},
   "source": [
    "# 製作 interaction_df"
   ]
  },
  {
   "cell_type": "code",
   "execution_count": 25,
   "id": "7f219ef7",
   "metadata": {},
   "outputs": [],
   "source": [
    "clean_interaction_df['artists'] = None\n",
    "clean_interaction_df['genre_ids'] = None\n",
    "clean_interaction_df['time_stamp'] = None"
   ]
  },
  {
   "cell_type": "code",
   "execution_count": 26,
   "id": "75c4cdf4",
   "metadata": {},
   "outputs": [],
   "source": [
    "import time\n",
    "def to_timestamp(r):\n",
    "    timeString = r['client_upload_timestamp'][:-4]\n",
    "    struct_time = time.strptime(timeString, \"%Y-%m-%d %H:%M:%S\") \n",
    "    time_stamp = int(time.mktime(struct_time))\n",
    "    return time_stamp"
   ]
  },
  {
   "cell_type": "code",
   "execution_count": 27,
   "id": "61b6a4d4",
   "metadata": {},
   "outputs": [],
   "source": [
    "clean_interaction_df['time_stamp'] = clean_interaction_df.apply(to_timestamp, axis=1)"
   ]
  },
  {
   "cell_type": "code",
   "execution_count": 28,
   "id": "9405a042",
   "metadata": {},
   "outputs": [],
   "source": [
    "clean_interaction_df = clean_interaction_df.drop(['play_amount_second', 'client_upload_timestamp','server_upload_timestamp'], axis=1) "
   ]
  },
  {
   "cell_type": "code",
   "execution_count": 29,
   "id": "5ae4f554",
   "metadata": {},
   "outputs": [
    {
     "data": {
      "text/html": [
       "<div>\n",
       "<style scoped>\n",
       "    .dataframe tbody tr th:only-of-type {\n",
       "        vertical-align: middle;\n",
       "    }\n",
       "\n",
       "    .dataframe tbody tr th {\n",
       "        vertical-align: top;\n",
       "    }\n",
       "\n",
       "    .dataframe thead th {\n",
       "        text-align: right;\n",
       "    }\n",
       "</style>\n",
       "<table border=\"1\" class=\"dataframe\">\n",
       "  <thead>\n",
       "    <tr style=\"text-align: right;\">\n",
       "      <th></th>\n",
       "      <th>user_id</th>\n",
       "      <th>item_id</th>\n",
       "      <th>item_type</th>\n",
       "      <th>interaction</th>\n",
       "      <th>pt</th>\n",
       "      <th>artists</th>\n",
       "      <th>genre_ids</th>\n",
       "      <th>time_stamp</th>\n",
       "    </tr>\n",
       "  </thead>\n",
       "  <tbody>\n",
       "    <tr>\n",
       "      <th>0</th>\n",
       "      <td>2474306</td>\n",
       "      <td>1wD4g4XsdIeWlGVfzRINtYmWcmY</td>\n",
       "      <td>series</td>\n",
       "      <td>click</td>\n",
       "      <td>2022-06-05</td>\n",
       "      <td>None</td>\n",
       "      <td>None</td>\n",
       "      <td>1654434806</td>\n",
       "    </tr>\n",
       "    <tr>\n",
       "      <th>1</th>\n",
       "      <td>3388774701-001CFC9B81B0</td>\n",
       "      <td>1iMUvTi1eRV8NlzImO0YBLxQL4d</td>\n",
       "      <td>series</td>\n",
       "      <td>play</td>\n",
       "      <td>2022-06-05</td>\n",
       "      <td>None</td>\n",
       "      <td>None</td>\n",
       "      <td>1654434811</td>\n",
       "    </tr>\n",
       "    <tr>\n",
       "      <th>2</th>\n",
       "      <td>3110051691-001CFCBC9B74</td>\n",
       "      <td>1TwKjfa78ggenBBeFKZ1EZ0stE1</td>\n",
       "      <td>series</td>\n",
       "      <td>click</td>\n",
       "      <td>2022-06-05</td>\n",
       "      <td>None</td>\n",
       "      <td>None</td>\n",
       "      <td>1654434811</td>\n",
       "    </tr>\n",
       "    <tr>\n",
       "      <th>3</th>\n",
       "      <td>3130706901-001CFCADEC74</td>\n",
       "      <td>1vOEFBWXhl8eBrmCVPgBRG19Rov</td>\n",
       "      <td>series</td>\n",
       "      <td>click</td>\n",
       "      <td>2022-06-05</td>\n",
       "      <td>None</td>\n",
       "      <td>None</td>\n",
       "      <td>1654434814</td>\n",
       "    </tr>\n",
       "    <tr>\n",
       "      <th>4</th>\n",
       "      <td>0827482101-001CFCDE737C</td>\n",
       "      <td>27PuwO5U0CX7Cl3OefgkzCDs6mj</td>\n",
       "      <td>series</td>\n",
       "      <td>play</td>\n",
       "      <td>2022-06-05</td>\n",
       "      <td>None</td>\n",
       "      <td>None</td>\n",
       "      <td>1654434818</td>\n",
       "    </tr>\n",
       "    <tr>\n",
       "      <th>...</th>\n",
       "      <td>...</td>\n",
       "      <td>...</td>\n",
       "      <td>...</td>\n",
       "      <td>...</td>\n",
       "      <td>...</td>\n",
       "      <td>...</td>\n",
       "      <td>...</td>\n",
       "      <td>...</td>\n",
       "    </tr>\n",
       "    <tr>\n",
       "      <th>4294</th>\n",
       "      <td>1562153101-001CFC846330</td>\n",
       "      <td>1TwKyJ6jN9n5I9GQX05c90hBTYO</td>\n",
       "      <td>movie</td>\n",
       "      <td>play</td>\n",
       "      <td>2022-06-05</td>\n",
       "      <td>None</td>\n",
       "      <td>None</td>\n",
       "      <td>1654403004</td>\n",
       "    </tr>\n",
       "    <tr>\n",
       "      <th>4295</th>\n",
       "      <td>6610054487-001CFC77EA80</td>\n",
       "      <td>26s1j4CF1K3xsYxJYyuITfT6W9a</td>\n",
       "      <td>series</td>\n",
       "      <td>play</td>\n",
       "      <td>2022-06-05</td>\n",
       "      <td>None</td>\n",
       "      <td>None</td>\n",
       "      <td>1654403004</td>\n",
       "    </tr>\n",
       "    <tr>\n",
       "      <th>4296</th>\n",
       "      <td>0143647402-001CFC7CD9B8</td>\n",
       "      <td>1tZG3JiNtcDF0ICMrZ588znwc1b</td>\n",
       "      <td>series</td>\n",
       "      <td>play</td>\n",
       "      <td>2022-06-05</td>\n",
       "      <td>None</td>\n",
       "      <td>None</td>\n",
       "      <td>1654403004</td>\n",
       "    </tr>\n",
       "    <tr>\n",
       "      <th>4297</th>\n",
       "      <td>3410075052-001CFC7B9624</td>\n",
       "      <td>1mpPsjqPDFfr7l0mcRdcU0R2cue</td>\n",
       "      <td>series</td>\n",
       "      <td>play</td>\n",
       "      <td>2022-06-05</td>\n",
       "      <td>None</td>\n",
       "      <td>None</td>\n",
       "      <td>1654403004</td>\n",
       "    </tr>\n",
       "    <tr>\n",
       "      <th>4298</th>\n",
       "      <td>2474306</td>\n",
       "      <td>21Ul76xkuTIJwqcVE5tsrjged0r</td>\n",
       "      <td>series</td>\n",
       "      <td>click</td>\n",
       "      <td>2022-06-05</td>\n",
       "      <td>None</td>\n",
       "      <td>None</td>\n",
       "      <td>1654403004</td>\n",
       "    </tr>\n",
       "  </tbody>\n",
       "</table>\n",
       "<p>4299 rows × 8 columns</p>\n",
       "</div>"
      ],
      "text/plain": [
       "                      user_id                      item_id item_type  \\\n",
       "0                     2474306  1wD4g4XsdIeWlGVfzRINtYmWcmY    series   \n",
       "1     3388774701-001CFC9B81B0  1iMUvTi1eRV8NlzImO0YBLxQL4d    series   \n",
       "2     3110051691-001CFCBC9B74  1TwKjfa78ggenBBeFKZ1EZ0stE1    series   \n",
       "3     3130706901-001CFCADEC74  1vOEFBWXhl8eBrmCVPgBRG19Rov    series   \n",
       "4     0827482101-001CFCDE737C  27PuwO5U0CX7Cl3OefgkzCDs6mj    series   \n",
       "...                       ...                          ...       ...   \n",
       "4294  1562153101-001CFC846330  1TwKyJ6jN9n5I9GQX05c90hBTYO     movie   \n",
       "4295  6610054487-001CFC77EA80  26s1j4CF1K3xsYxJYyuITfT6W9a    series   \n",
       "4296  0143647402-001CFC7CD9B8  1tZG3JiNtcDF0ICMrZ588znwc1b    series   \n",
       "4297  3410075052-001CFC7B9624  1mpPsjqPDFfr7l0mcRdcU0R2cue    series   \n",
       "4298                  2474306  21Ul76xkuTIJwqcVE5tsrjged0r    series   \n",
       "\n",
       "     interaction          pt artists genre_ids  time_stamp  \n",
       "0          click  2022-06-05    None      None  1654434806  \n",
       "1           play  2022-06-05    None      None  1654434811  \n",
       "2          click  2022-06-05    None      None  1654434811  \n",
       "3          click  2022-06-05    None      None  1654434814  \n",
       "4           play  2022-06-05    None      None  1654434818  \n",
       "...          ...         ...     ...       ...         ...  \n",
       "4294        play  2022-06-05    None      None  1654403004  \n",
       "4295        play  2022-06-05    None      None  1654403004  \n",
       "4296        play  2022-06-05    None      None  1654403004  \n",
       "4297        play  2022-06-05    None      None  1654403004  \n",
       "4298       click  2022-06-05    None      None  1654403004  \n",
       "\n",
       "[4299 rows x 8 columns]"
      ]
     },
     "execution_count": 29,
     "metadata": {},
     "output_type": "execute_result"
    }
   ],
   "source": [
    "clean_interaction_df"
   ]
  },
  {
   "cell_type": "code",
   "execution_count": 30,
   "id": "df09ada8",
   "metadata": {},
   "outputs": [
    {
     "data": {
      "text/html": [
       "<div>\n",
       "<style scoped>\n",
       "    .dataframe tbody tr th:only-of-type {\n",
       "        vertical-align: middle;\n",
       "    }\n",
       "\n",
       "    .dataframe tbody tr th {\n",
       "        vertical-align: top;\n",
       "    }\n",
       "\n",
       "    .dataframe thead th {\n",
       "        text-align: right;\n",
       "    }\n",
       "</style>\n",
       "<table border=\"1\" class=\"dataframe\">\n",
       "  <thead>\n",
       "    <tr style=\"text-align: right;\">\n",
       "      <th></th>\n",
       "      <th>user_id</th>\n",
       "      <th>item_id</th>\n",
       "      <th>item_type</th>\n",
       "      <th>interaction</th>\n",
       "      <th>artists</th>\n",
       "      <th>genre_ids</th>\n",
       "      <th>time_stamp</th>\n",
       "    </tr>\n",
       "    <tr>\n",
       "      <th>pt</th>\n",
       "      <th></th>\n",
       "      <th></th>\n",
       "      <th></th>\n",
       "      <th></th>\n",
       "      <th></th>\n",
       "      <th></th>\n",
       "      <th></th>\n",
       "    </tr>\n",
       "  </thead>\n",
       "  <tbody>\n",
       "    <tr>\n",
       "      <th>2022-06-03</th>\n",
       "      <td>724</td>\n",
       "      <td>724</td>\n",
       "      <td>724</td>\n",
       "      <td>724</td>\n",
       "      <td>0</td>\n",
       "      <td>0</td>\n",
       "      <td>724</td>\n",
       "    </tr>\n",
       "    <tr>\n",
       "      <th>2022-06-05</th>\n",
       "      <td>3575</td>\n",
       "      <td>3575</td>\n",
       "      <td>3575</td>\n",
       "      <td>3575</td>\n",
       "      <td>0</td>\n",
       "      <td>0</td>\n",
       "      <td>3575</td>\n",
       "    </tr>\n",
       "  </tbody>\n",
       "</table>\n",
       "</div>"
      ],
      "text/plain": [
       "            user_id  item_id  item_type  interaction  artists  genre_ids  \\\n",
       "pt                                                                         \n",
       "2022-06-03      724      724        724          724        0          0   \n",
       "2022-06-05     3575     3575       3575         3575        0          0   \n",
       "\n",
       "            time_stamp  \n",
       "pt                      \n",
       "2022-06-03         724  \n",
       "2022-06-05        3575  "
      ]
     },
     "execution_count": 30,
     "metadata": {},
     "output_type": "execute_result"
    }
   ],
   "source": [
    "# item_type\n",
    "# pt\n",
    "string = 'pt'\n",
    "freq = clean_interaction_df.groupby([string]).count() \n",
    "freq"
   ]
  },
  {
   "cell_type": "code",
   "execution_count": 31,
   "id": "aca20b43",
   "metadata": {},
   "outputs": [
    {
     "data": {
      "text/plain": [
       "(2783, 82580)"
      ]
     },
     "execution_count": 31,
     "metadata": {},
     "output_type": "execute_result"
    }
   ],
   "source": [
    "artist_names = list(set(all_artist_name))\n",
    "len(user_ids),len(artist_names) #演員矩陣大小"
   ]
  },
  {
   "cell_type": "code",
   "execution_count": 32,
   "id": "4730c317",
   "metadata": {},
   "outputs": [
    {
     "data": {
      "text/plain": [
       "(2783, 373)"
      ]
     },
     "execution_count": 32,
     "metadata": {},
     "output_type": "execute_result"
    }
   ],
   "source": [
    "len(user_ids),len(genre_ids) #類型矩陣大小"
   ]
  },
  {
   "cell_type": "code",
   "execution_count": 33,
   "id": "93e5a043",
   "metadata": {},
   "outputs": [
    {
     "data": {
      "text/plain": [
       "(4299, 4299, 4299, 4299, 4299, 4299)"
      ]
     },
     "execution_count": 33,
     "metadata": {},
     "output_type": "execute_result"
    }
   ],
   "source": [
    "df_user_id_list = clean_interaction_df['user_id'].to_list() #使用者行為轉成串列\n",
    "df_item_id_list = clean_interaction_df['item_id'].to_list()\n",
    "df_interaction_list = clean_interaction_df['interaction'].to_list()\n",
    "df_artists_list = clean_interaction_df['artists'].to_list()\n",
    "df_genre_ids_list = clean_interaction_df['genre_ids'].to_list()\n",
    "df_df_list = clean_interaction_df['pt'].to_list()\n",
    "\n",
    "len(df_user_id_list),len(df_item_id_list),len(df_interaction_list),len(df_df_list),len(df_artists_list),len(df_genre_ids_list)"
   ]
  },
  {
   "cell_type": "code",
   "execution_count": 34,
   "id": "c4eb69b8",
   "metadata": {},
   "outputs": [
    {
     "data": {
      "text/plain": [
       "(24119, 24119, 24119)"
      ]
     },
     "execution_count": 34,
     "metadata": {},
     "output_type": "execute_result"
    }
   ],
   "source": [
    "legitimat_artists_list = legitimat_df['artists'].to_list() # 合法電影清單轉成串列\n",
    "legitimat_genre_ids_list = legitimat_df['genre_ids'].to_list()\n",
    "legitimat_id_list = legitimat_df['id'].to_list()\n",
    "len(legitimat_artists_list),len(legitimat_genre_ids_list),len(legitimat_id_list)"
   ]
  },
  {
   "cell_type": "code",
   "execution_count": 35,
   "id": "b59146e4",
   "metadata": {},
   "outputs": [],
   "source": [
    "# 準備進行比對\n",
    "user_length = len(df_user_id_list)\n",
    "for i in range(user_length):\n",
    "    id_index = legitimat_id_list.index(df_item_id_list[i])\n",
    "    genre = legitimat_genre_ids_list[id_index]\n",
    "    artist = legitimat_artists_list[id_index]\n",
    "    df_artists_list[i] = artist\n",
    "    df_genre_ids_list[i] = genre"
   ]
  },
  {
   "cell_type": "code",
   "execution_count": 36,
   "id": "948c3296",
   "metadata": {},
   "outputs": [
    {
     "data": {
      "text/plain": [
       "['J3', 'J306']"
      ]
     },
     "execution_count": 36,
     "metadata": {},
     "output_type": "execute_result"
    }
   ],
   "source": [
    "i = legitimat_id_list.index(df_item_id_list[2002]) #測試\n",
    "legitimat_genre_ids_list[i]"
   ]
  },
  {
   "cell_type": "code",
   "execution_count": 37,
   "id": "c76cd1bd",
   "metadata": {},
   "outputs": [],
   "source": [
    "legitimat_artists_list[i] #測試\n",
    "for j in legitimat_artists_list[i]:\n",
    "    if j not in set(all_artist_name):\n",
    "        print(j)"
   ]
  },
  {
   "cell_type": "code",
   "execution_count": 38,
   "id": "56009faa",
   "metadata": {},
   "outputs": [
    {
     "data": {
      "text/html": [
       "<div>\n",
       "<style scoped>\n",
       "    .dataframe tbody tr th:only-of-type {\n",
       "        vertical-align: middle;\n",
       "    }\n",
       "\n",
       "    .dataframe tbody tr th {\n",
       "        vertical-align: top;\n",
       "    }\n",
       "\n",
       "    .dataframe thead th {\n",
       "        text-align: right;\n",
       "    }\n",
       "</style>\n",
       "<table border=\"1\" class=\"dataframe\">\n",
       "  <thead>\n",
       "    <tr style=\"text-align: right;\">\n",
       "      <th></th>\n",
       "      <th>artists</th>\n",
       "      <th>ids</th>\n",
       "    </tr>\n",
       "  </thead>\n",
       "  <tbody>\n",
       "    <tr>\n",
       "      <th>0</th>\n",
       "      <td>[ジャン・ナン[江南], リウ・ハオラン, チャン・フォンイー, ラレイナ・ソン[宋祖児],...</td>\n",
       "      <td>[J5, J513]</td>\n",
       "    </tr>\n",
       "    <tr>\n",
       "      <th>1</th>\n",
       "      <td>[櫻井孝宏, 藤井綾香, 東映アニメーション, 堀井雄二, 種﨑敦美, 子安武人, 関智一,...</td>\n",
       "      <td>[J3, J301, J306, J315]</td>\n",
       "    </tr>\n",
       "    <tr>\n",
       "      <th>2</th>\n",
       "      <td>[ローラ･ベンソン, パウロ・コスタンゾ, ハリー・J・レニックス, コート・ヘスラー, ジ...</td>\n",
       "      <td>[J505, J5]</td>\n",
       "    </tr>\n",
       "    <tr>\n",
       "      <th>3</th>\n",
       "      <td>[ガオ・ツォンカイ, ジェン・イェチョン, ホアン・ツァンツァン, フー・イーシュエン, ド...</td>\n",
       "      <td>[J5, J513]</td>\n",
       "    </tr>\n",
       "    <tr>\n",
       "      <th>4</th>\n",
       "      <td>[上野勇輔, 市ノ瀬加那, 鈴木政彦, Ming H. Chan, 檜山修之, 楊建利, 西...</td>\n",
       "      <td>[J3, J301, J306]</td>\n",
       "    </tr>\n",
       "    <tr>\n",
       "      <th>...</th>\n",
       "      <td>...</td>\n",
       "      <td>...</td>\n",
       "    </tr>\n",
       "    <tr>\n",
       "      <th>4294</th>\n",
       "      <td>[デイジー・リドリー, ライアン・ジョンソン, マーク・ハミル, キャリー・フィッシャー, ...</td>\n",
       "      <td>[J101, J102, J109, J1]</td>\n",
       "    </tr>\n",
       "    <tr>\n",
       "      <th>4295</th>\n",
       "      <td>[Cygames, 並木智, 草薙, 藤本さとる, 辻智子, 藤井ゆきよ, 岡本穂高, 上田...</td>\n",
       "      <td>[J3, J312]</td>\n",
       "    </tr>\n",
       "    <tr>\n",
       "      <th>4296</th>\n",
       "      <td>[チョン・ドンユン, ナムグン・ミン, オ・ジョンセ, チョ・ハンソン, イ・シンファ, パ...</td>\n",
       "      <td>[J5, J511]</td>\n",
       "    </tr>\n",
       "    <tr>\n",
       "      <th>4297</th>\n",
       "      <td>[大久保瑠美, サイトウタカオ, 富田美憂, 大西健太, 丹彩子, 逢坂良太, 森下広人, ...</td>\n",
       "      <td>[J312, J314, J7, J704, J3, J306]</td>\n",
       "    </tr>\n",
       "    <tr>\n",
       "      <th>4298</th>\n",
       "      <td>[イン・タオ, リウ・ファン, ヤン・チャオユエ, リャン・ジンシェン, ハン・チョンユー,...</td>\n",
       "      <td>[J5, J513, J514]</td>\n",
       "    </tr>\n",
       "  </tbody>\n",
       "</table>\n",
       "<p>4299 rows × 2 columns</p>\n",
       "</div>"
      ],
      "text/plain": [
       "                                                artists  \\\n",
       "0     [ジャン・ナン[江南], リウ・ハオラン, チャン・フォンイー, ラレイナ・ソン[宋祖児],...   \n",
       "1     [櫻井孝宏, 藤井綾香, 東映アニメーション, 堀井雄二, 種﨑敦美, 子安武人, 関智一,...   \n",
       "2     [ローラ･ベンソン, パウロ・コスタンゾ, ハリー・J・レニックス, コート・ヘスラー, ジ...   \n",
       "3     [ガオ・ツォンカイ, ジェン・イェチョン, ホアン・ツァンツァン, フー・イーシュエン, ド...   \n",
       "4     [上野勇輔, 市ノ瀬加那, 鈴木政彦, Ming H. Chan, 檜山修之, 楊建利, 西...   \n",
       "...                                                 ...   \n",
       "4294  [デイジー・リドリー, ライアン・ジョンソン, マーク・ハミル, キャリー・フィッシャー, ...   \n",
       "4295  [Cygames, 並木智, 草薙, 藤本さとる, 辻智子, 藤井ゆきよ, 岡本穂高, 上田...   \n",
       "4296  [チョン・ドンユン, ナムグン・ミン, オ・ジョンセ, チョ・ハンソン, イ・シンファ, パ...   \n",
       "4297  [大久保瑠美, サイトウタカオ, 富田美憂, 大西健太, 丹彩子, 逢坂良太, 森下広人, ...   \n",
       "4298  [イン・タオ, リウ・ファン, ヤン・チャオユエ, リャン・ジンシェン, ハン・チョンユー,...   \n",
       "\n",
       "                                   ids  \n",
       "0                           [J5, J513]  \n",
       "1               [J3, J301, J306, J315]  \n",
       "2                           [J505, J5]  \n",
       "3                           [J5, J513]  \n",
       "4                     [J3, J301, J306]  \n",
       "...                                ...  \n",
       "4294            [J101, J102, J109, J1]  \n",
       "4295                        [J3, J312]  \n",
       "4296                        [J5, J511]  \n",
       "4297  [J312, J314, J7, J704, J3, J306]  \n",
       "4298                  [J5, J513, J514]  \n",
       "\n",
       "[4299 rows x 2 columns]"
      ]
     },
     "execution_count": 38,
     "metadata": {},
     "output_type": "execute_result"
    }
   ],
   "source": [
    "dict = {\n",
    "    'artists':df_artists_list,\n",
    "    'ids':df_genre_ids_list\n",
    "}\n",
    "df2 = pd.DataFrame(dict)\n",
    "df2"
   ]
  },
  {
   "cell_type": "code",
   "execution_count": 39,
   "id": "79d96a9b",
   "metadata": {},
   "outputs": [],
   "source": [
    "ddf = pd.merge(df2, clean_interaction_df ,how='outer',left_index=True, right_index=True)"
   ]
  },
  {
   "cell_type": "code",
   "execution_count": 40,
   "id": "62d5a38e",
   "metadata": {},
   "outputs": [],
   "source": [
    "clean_interaction_df = clean_interaction_df.drop(['artists', 'genre_ids'], axis=1) "
   ]
  },
  {
   "cell_type": "code",
   "execution_count": 41,
   "id": "473a3b4b",
   "metadata": {},
   "outputs": [],
   "source": [
    "clean_interaction_df = pd.merge(df2, clean_interaction_df ,how='outer',left_index=True, right_index=True)"
   ]
  },
  {
   "cell_type": "code",
   "execution_count": 42,
   "id": "f37518fd",
   "metadata": {},
   "outputs": [
    {
     "data": {
      "text/plain": [
       "(4299, 4299)"
      ]
     },
     "execution_count": 42,
     "metadata": {},
     "output_type": "execute_result"
    }
   ],
   "source": [
    "all_artists_list = clean_interaction_df['artists'].to_list()\n",
    "all_genre_ids_list = clean_interaction_df['ids'].to_list()\n",
    "len(all_artists_list),len(all_genre_ids_list)"
   ]
  },
  {
   "cell_type": "code",
   "execution_count": 43,
   "id": "c9fdf4ff",
   "metadata": {},
   "outputs": [],
   "source": [
    "user_ids = list(set(clean_interaction_df['user_id']))"
   ]
  },
  {
   "cell_type": "code",
   "execution_count": 44,
   "id": "e90ed318",
   "metadata": {},
   "outputs": [
    {
     "data": {
      "text/html": [
       "<div>\n",
       "<style scoped>\n",
       "    .dataframe tbody tr th:only-of-type {\n",
       "        vertical-align: middle;\n",
       "    }\n",
       "\n",
       "    .dataframe tbody tr th {\n",
       "        vertical-align: top;\n",
       "    }\n",
       "\n",
       "    .dataframe thead th {\n",
       "        text-align: right;\n",
       "    }\n",
       "</style>\n",
       "<table border=\"1\" class=\"dataframe\">\n",
       "  <thead>\n",
       "    <tr style=\"text-align: right;\">\n",
       "      <th></th>\n",
       "      <th>artists</th>\n",
       "      <th>ids</th>\n",
       "      <th>user_id</th>\n",
       "      <th>item_id</th>\n",
       "      <th>item_type</th>\n",
       "      <th>pt</th>\n",
       "      <th>time_stamp</th>\n",
       "    </tr>\n",
       "    <tr>\n",
       "      <th>interaction</th>\n",
       "      <th></th>\n",
       "      <th></th>\n",
       "      <th></th>\n",
       "      <th></th>\n",
       "      <th></th>\n",
       "      <th></th>\n",
       "      <th></th>\n",
       "    </tr>\n",
       "  </thead>\n",
       "  <tbody>\n",
       "    <tr>\n",
       "      <th>click</th>\n",
       "      <td>1527</td>\n",
       "      <td>1527</td>\n",
       "      <td>1527</td>\n",
       "      <td>1527</td>\n",
       "      <td>1527</td>\n",
       "      <td>1527</td>\n",
       "      <td>1527</td>\n",
       "    </tr>\n",
       "    <tr>\n",
       "      <th>favor</th>\n",
       "      <td>1</td>\n",
       "      <td>1</td>\n",
       "      <td>1</td>\n",
       "      <td>1</td>\n",
       "      <td>1</td>\n",
       "      <td>1</td>\n",
       "      <td>1</td>\n",
       "    </tr>\n",
       "    <tr>\n",
       "      <th>play</th>\n",
       "      <td>2664</td>\n",
       "      <td>2664</td>\n",
       "      <td>2664</td>\n",
       "      <td>2664</td>\n",
       "      <td>2664</td>\n",
       "      <td>2664</td>\n",
       "      <td>2664</td>\n",
       "    </tr>\n",
       "    <tr>\n",
       "      <th>purchase</th>\n",
       "      <td>54</td>\n",
       "      <td>54</td>\n",
       "      <td>54</td>\n",
       "      <td>54</td>\n",
       "      <td>54</td>\n",
       "      <td>54</td>\n",
       "      <td>54</td>\n",
       "    </tr>\n",
       "    <tr>\n",
       "      <th>search</th>\n",
       "      <td>53</td>\n",
       "      <td>53</td>\n",
       "      <td>53</td>\n",
       "      <td>53</td>\n",
       "      <td>53</td>\n",
       "      <td>53</td>\n",
       "      <td>53</td>\n",
       "    </tr>\n",
       "  </tbody>\n",
       "</table>\n",
       "</div>"
      ],
      "text/plain": [
       "             artists   ids  user_id  item_id  item_type    pt  time_stamp\n",
       "interaction                                                              \n",
       "click           1527  1527     1527     1527       1527  1527        1527\n",
       "favor              1     1        1        1          1     1           1\n",
       "play            2664  2664     2664     2664       2664  2664        2664\n",
       "purchase          54    54       54       54         54    54          54\n",
       "search            53    53       53       53         53    53          53"
      ]
     },
     "execution_count": 44,
     "metadata": {},
     "output_type": "execute_result"
    }
   ],
   "source": [
    "# item_type\n",
    "# pt\n",
    "# interaction \n",
    "string = 'interaction'\n",
    "freq = clean_interaction_df.groupby([string]).count() \n",
    "freq"
   ]
  },
  {
   "cell_type": "code",
   "execution_count": 45,
   "id": "5e4e7fba",
   "metadata": {},
   "outputs": [
    {
     "data": {
      "text/plain": [
       "(2783, 373, 82580)"
      ]
     },
     "execution_count": 45,
     "metadata": {},
     "output_type": "execute_result"
    }
   ],
   "source": [
    "len(user_ids),len(artist_names) #演員矩陣大小\n",
    "len(user_ids),len(genre_ids),len(artist_names)#類型矩陣大小"
   ]
  },
  {
   "cell_type": "code",
   "execution_count": 46,
   "id": "d8647ce1",
   "metadata": {},
   "outputs": [],
   "source": [
    "import numpy as np\n",
    "id_length = len(user_ids)\n",
    "genre_length = len(genre_ids)\n",
    "artist_length = len(artist_names)\n",
    "\n",
    "genre_zero_arr = np.zeros((7,id_length,genre_length),dtype=float)\n",
    "genre_interaction_zero_arr = np.zeros((6,7,id_length,genre_length),dtype=float)\n",
    "\n",
    "artist_zero_arr = np.zeros((7,id_length,artist_length),dtype=float)\n",
    "artist_interaction_zero_arr = np.zeros((6,7,id_length,artist_length),dtype=float)"
   ]
  },
  {
   "cell_type": "code",
   "execution_count": 47,
   "id": "d6389738",
   "metadata": {},
   "outputs": [
    {
     "data": {
      "text/plain": [
       "((7, 2783, 373), (6, 7, 2783, 82580))"
      ]
     },
     "execution_count": 47,
     "metadata": {},
     "output_type": "execute_result"
    }
   ],
   "source": [
    "genre_zero_arr.shape,artist_interaction_zero_arr.shape"
   ]
  },
  {
   "cell_type": "code",
   "execution_count": 48,
   "id": "45c8d7fd",
   "metadata": {},
   "outputs": [],
   "source": [
    "all_artists_list = clean_interaction_df['artists'].to_list()\n",
    "all_genre_ids_list = clean_interaction_df['ids'].to_list()\n",
    "all_user_id_list = clean_interaction_df['user_id'].to_list()\n",
    "all_interaction_list = clean_interaction_df['interaction'].to_list()\n",
    "all_pt_list = clean_interaction_df['pt'].to_list()"
   ]
  },
  {
   "cell_type": "code",
   "execution_count": 49,
   "id": "033f76af",
   "metadata": {},
   "outputs": [],
   "source": [
    "interaction_list = ['click','favor', 'play', 'purchase', 'search','download']"
   ]
  },
  {
   "cell_type": "code",
   "execution_count": 50,
   "id": "b2dbe7d1",
   "metadata": {},
   "outputs": [],
   "source": [
    "row = id_length\n",
    "for i in range(row):\n",
    "    id_index = user_ids.index(all_user_id_list[i]) #對應到橫軸id的index\n",
    "    artist_len = len(all_artists_list[i]) #該行的artist長度\n",
    "    genre_len = len(all_genre_ids_list[i]) #該行的genre長度\n",
    "    intraction = all_interaction_list[i] #該行的動作\n",
    "    pt = all_pt_list[i] #該行的日期\n",
    "    #開始填表紀錄\n",
    "    date_num = int(pt[-1:])-1 #日期減一以便放入(0~6)\n",
    "    interaction_index = interaction_list.index(intraction) #動作對應的index(0~5)\n",
    "    for j in range(genre_len):\n",
    "        genre_index = genre_ids.index(all_genre_ids_list[i][j]) #找出該genre在matrix的index\n",
    "        genre_zero_arr[date_num,id_index,genre_index] += 1\n",
    "        genre_interaction_zero_arr[interaction_index,date_num,id_index,genre_index] += 1\n",
    "    \n",
    "    for k in range(artist_len):\n",
    "        artist_index = artist_names.index(all_artists_list[i][k]) #找出該artist在matrix的index\n",
    "        artist_zero_arr[date_num,id_index,artist_index] += 1\n",
    "        artist_interaction_zero_arr[interaction_index,date_num,id_index,artist_index] += 1"
   ]
  },
  {
   "cell_type": "code",
   "execution_count": 51,
   "id": "bb13e514",
   "metadata": {},
   "outputs": [],
   "source": [
    "# root_path = '/Users/weizhechen/Desktop/KKMA/matrix_test/'\n",
    "# artist_path = 'artist'\n",
    "# genre_path = 'genre'\n",
    "# interaction_list = ['click','favor', 'play', 'purchase', 'search','download']\n",
    "# date_list = ['_0601.csv','_0602.csv','_0603.csv','_0604.csv','_0605.csv','_0606.csv','_0607.csv']\n",
    "\n",
    "# concat_folder = join(source_data_path,metadata_folder)"
   ]
  },
  {
   "cell_type": "code",
   "execution_count": 52,
   "id": "582cc557",
   "metadata": {},
   "outputs": [],
   "source": [
    "\n",
    "# '/Users/weizhechen/Desktop/KKMA/matrix_csv/purchase/artist_purchase_0604.csv'\n",
    "# '/Users/weizhechen/Desktop/KKMA/matrix_csv/search/artist_search_0601.csv'\n",
    "# '/Users/weizhechen/Desktop/KKMA/matrix_csv/play/artist_play_0601.csv'\n",
    "\n",
    "# '/Users/weizhechen/Desktop/KKMA/matrix_test/click/artist_click_0601.csv'\n",
    "# '/Users/weizhechen/Desktop/KKMA/matrix_csv/artist/artist_0601.csv'\n",
    "# '/Users/weizhechen/Desktop/KKMA/matrix_csv/genre/genre_0602.csv'"
   ]
  },
  {
   "cell_type": "code",
   "execution_count": 53,
   "id": "0b21d883",
   "metadata": {},
   "outputs": [],
   "source": [
    "# # 存csv\n",
    "# for i in range(7):\n",
    "#     genre_pd = pd.DataFrame(genre_zero_arr[i],columns=genre_ids,index=user_ids)\n",
    "#     artist_pd = pd.DataFrame(artist_zero_arr[i],columns=artist_names,index=user_ids)\n",
    "    \n",
    "#     genre_pd.to_csv(root_path + genre_path + '/' + genre_path + date_list[i])\n",
    "#     artist_pd.to_csv(root_path + artist_path + '/' + artist_path + date_list[i])\n",
    "#     for j in range(6):\n",
    "#         genre_interaction_pd = pd.DataFrame(genre_interaction_zero_arr[j][i],columns=genre_ids,index=user_ids)\n",
    "#         artist_interaction_pd = pd.DataFrame(artist_interaction_zero_arr[j][i],columns=artist_names,index=user_ids)\n",
    "\n",
    "#         genre_interaction_pd.to_csv(root_path + interaction_list[j] + '/' + genre_path + '_' + interaction_list[j] + date_list[i])\n",
    "#         artist_interaction_pd.to_csv(root_path + interaction_list[j] + '/' + artist_path + '_' + interaction_list[j] + date_list[i])"
   ]
  },
  {
   "cell_type": "code",
   "execution_count": 54,
   "id": "bef11ab0",
   "metadata": {},
   "outputs": [],
   "source": [
    "#讀檔案gg = pd.read_csv('/Users/weizhechen/Desktop/KKMA/matrix_test/genre/genre_0603.csv',index_col=0)"
   ]
  },
  {
   "cell_type": "markdown",
   "id": "38e28c88",
   "metadata": {},
   "source": [
    "# 計算TF-IDF"
   ]
  },
  {
   "cell_type": "code",
   "execution_count": 55,
   "id": "f6eaaba8",
   "metadata": {},
   "outputs": [],
   "source": [
    "# timedecay function = 1 - X/max(time interval)*R where R=1\n",
    "# 'click','favor', 'play', 'purchase', 'search','download'\n",
    "action_weight_list = [1.0, 2.0, 3.0, 5.0, 2.0, 4.0]\n",
    "timedecay = [1/8.0, 2/8.0, 3/8.0, 4/8.0, 5/8.0, 6/8.0, 7/8.0]"
   ]
  },
  {
   "cell_type": "code",
   "execution_count": 56,
   "id": "9ec09502",
   "metadata": {},
   "outputs": [],
   "source": [
    "id_length = len(user_ids)\n",
    "genre_length = len(genre_ids)\n",
    "artist_length = len(artist_names)\n",
    "\n",
    "genre_tf = np.zeros((7,id_length,genre_length),dtype=float)\n",
    "genre_idf = np.zeros((7,id_length,genre_length),dtype=float)\n",
    "\n",
    "artist_tf = np.zeros((7,id_length,artist_length),dtype=float)\n",
    "artist_idf = np.zeros((7,id_length,artist_length),dtype=float)"
   ]
  },
  {
   "cell_type": "markdown",
   "id": "05429e78",
   "metadata": {},
   "source": [
    "### 考慮時間與行為(算各自的tfidf再加總該天的行為)"
   ]
  },
  {
   "cell_type": "code",
   "execution_count": 57,
   "id": "db51776e",
   "metadata": {},
   "outputs": [
    {
     "data": {
      "text/plain": [
       "(7, 2783, 373)"
      ]
     },
     "execution_count": 57,
     "metadata": {},
     "output_type": "execute_result"
    }
   ],
   "source": [
    "genre_zero_arr.shape"
   ]
  },
  {
   "cell_type": "code",
   "execution_count": 58,
   "id": "99893bab",
   "metadata": {},
   "outputs": [],
   "source": [
    "# 四個矩陣\n",
    "# genre_zero_arr.shape ,(7, 2783, 82580)\n",
    "# genre_interaction_zero_arr.shape ,(6, 7, 2783, 82580)\n",
    "\n",
    "# artist_zero_arr.shape ,(7, 2783, 82580)\n",
    "# artist_interaction_zero_arr.shape,(6, 7, 2783, 82580)"
   ]
  },
  {
   "cell_type": "code",
   "execution_count": 59,
   "id": "f6ed5991",
   "metadata": {},
   "outputs": [],
   "source": [
    "#計算TF\n",
    "row_length = id_length\n",
    "for i in range(7):\n",
    "    for row in range(row_length):\n",
    "        g_total = 0.0\n",
    "        a_total = 0.0\n",
    "        for g_column in range(genre_length):\n",
    "            g_total = genre_zero_arr[i][row][g_column] + g_total\n",
    "        for a_column in range(artist_length):\n",
    "            a_total = artist_zero_arr[i][row][a_column] + a_total\n",
    "        \n",
    "        for g_column in range(genre_length):\n",
    "            freq = genre_zero_arr[i][row][g_column]\n",
    "            if g_total == 0:\n",
    "                genre_tf[i][row][g_column] = 0.0\n",
    "            else:\n",
    "                genre_tf[i][row][g_column] = freq / g_total\n",
    "        for a_column in range(artist_length):\n",
    "            freq = artist_zero_arr[i][row][a_column]\n",
    "            if a_total == 0:\n",
    "                artist_tf[i][row][a_column] = 0.0\n",
    "            else:\n",
    "                artist_tf[i][row][a_column] = freq / a_total"
   ]
  },
  {
   "cell_type": "code",
   "execution_count": 60,
   "id": "18f4e699",
   "metadata": {},
   "outputs": [],
   "source": [
    "# dd = pd.DataFrame(genre_zero_arr[2],columns=genre_ids,index=user_ids)"
   ]
  },
  {
   "cell_type": "code",
   "execution_count": 61,
   "id": "e1e735ee",
   "metadata": {},
   "outputs": [],
   "source": [
    "#計算IDF\n",
    "import math\n",
    "\n",
    "#math.log()\n",
    "row_length = id_length\n",
    "for i in range(7):\n",
    "    for g_column in range(genre_length):\n",
    "        g_count = 0\n",
    "        total_user = row_length + 1\n",
    "        for row in range(row_length):\n",
    "            if genre_zero_arr[i][row][g_column] != 0:\n",
    "                g_count += 1\n",
    "        genre_idf[i][:,g_column] = math.log(total_user / (g_count +1))\n",
    "    \n",
    "    for a_column in range(artist_length):\n",
    "        a_count = 0\n",
    "        total_user = row_length + 1\n",
    "        for row in range(row_length):\n",
    "            if artist_zero_arr[i][row][a_column] !=0:\n",
    "                a_count += 1\n",
    "        artist_idf[i][:,a_column] = math.log( total_user / (a_count +1))"
   ]
  },
  {
   "cell_type": "code",
   "execution_count": 62,
   "id": "b1d2a2b1",
   "metadata": {},
   "outputs": [],
   "source": [
    "# genre_tf = np.zeros((7,id_length,genre_length),dtype=float)\n",
    "# genre_idf = np.zeros((7,id_length,genre_length),dtype=float)\n",
    "\n",
    "# artist_tf = np.zeros((7,id_length,artist_length),dtype=float)\n",
    "# artist_idf = np.zeros((7,id_length,artist_length),dtype=float)"
   ]
  },
  {
   "cell_type": "code",
   "execution_count": 63,
   "id": "6d301891",
   "metadata": {},
   "outputs": [],
   "source": [
    "import pandas as pd\n",
    "import matplotlib.pyplot as plt\n",
    "import seaborn as sns"
   ]
  },
  {
   "cell_type": "code",
   "execution_count": 64,
   "id": "5017e7bd",
   "metadata": {},
   "outputs": [],
   "source": [
    "#七天個自的tfidf\n",
    "genre_tfidf = np.zeros((7,id_length,genre_length),dtype=float) \n",
    "artist_tfidf = np.zeros((7,id_length,artist_length),dtype=float)"
   ]
  },
  {
   "cell_type": "code",
   "execution_count": 65,
   "id": "82717bc8",
   "metadata": {},
   "outputs": [],
   "source": [
    "for i in range(7):\n",
    "    genre_tfidf[i] = genre_tf[i] * genre_idf[i]\n",
    "    artist_tfidf[i] = artist_tf[i] * artist_idf[i]"
   ]
  },
  {
   "cell_type": "markdown",
   "id": "a6055e1c",
   "metadata": {},
   "source": [
    "### 不考慮時間與行為(先算各自在加總七天)"
   ]
  },
  {
   "cell_type": "code",
   "execution_count": 66,
   "id": "ad100122",
   "metadata": {},
   "outputs": [],
   "source": [
    "#算完加總\n",
    "total_genre_tfidf = np.zeros((id_length,genre_length),dtype=float)\n",
    "total_artist_tfidf = np.zeros((id_length,artist_length),dtype=float)\n",
    "for i in range(7):\n",
    "    total_genre_tfidf = genre_tfidf[i] + total_genre_tfidf\n",
    "    total_artist_tfidf = artist_tfidf[i] + total_artist_tfidf"
   ]
  },
  {
   "cell_type": "code",
   "execution_count": 67,
   "id": "a63094cf",
   "metadata": {},
   "outputs": [],
   "source": [
    "dd = pd.DataFrame(total_genre_tfidf,columns=genre_ids,index=user_ids)"
   ]
  },
  {
   "cell_type": "code",
   "execution_count": 68,
   "id": "805cb838",
   "metadata": {},
   "outputs": [
    {
     "name": "stdout",
     "output_type": "stream",
     "text": [
      "373\n"
     ]
    }
   ],
   "source": [
    "column_length = len(dd.columns)\n",
    "column_name = list(dd.columns)\n",
    "column_total = [ ]#每個column所有user權重加總\n",
    "for i in range(column_length):\n",
    "    column_list = dd[column_name[i]].to_list()\n",
    "    total = 0\n",
    "    for j in range(len(column_list)):\n",
    "        total = total + column_list[j]\n",
    "    column_total.append(total)\n",
    "print(len(column_total))"
   ]
  },
  {
   "cell_type": "code",
   "execution_count": 69,
   "id": "1d29134a",
   "metadata": {},
   "outputs": [
    {
     "data": {
      "text/plain": [
       "34"
      ]
     },
     "execution_count": 69,
     "metadata": {},
     "output_type": "execute_result"
    }
   ],
   "source": [
    "threshold = 50\n",
    "arr_d = np.array(column_total)\n",
    "k = list(np.where(arr_d>threshold))[0]\n",
    "len(k)"
   ]
  },
  {
   "cell_type": "code",
   "execution_count": 70,
   "id": "cf466977",
   "metadata": {},
   "outputs": [],
   "source": [
    "c = []\n",
    "v = []\n",
    "for i in range(len(k)):\n",
    "    c.append(column_name[k[i]])\n",
    "    v.append(column_total[k[i]])"
   ]
  },
  {
   "cell_type": "code",
   "execution_count": 71,
   "id": "8013b7f7",
   "metadata": {},
   "outputs": [
    {
     "data": {
      "text/plain": [
       "<BarContainer object of 34 artists>"
      ]
     },
     "execution_count": 71,
     "metadata": {},
     "output_type": "execute_result"
    },
    {
     "data": {
      "image/png": "[encoded data removed]",
      "text/plain": [
       "<Figure size 1440x360 with 1 Axes>"
      ]
     },
     "metadata": {
      "needs_background": "light"
     },
     "output_type": "display_data"
    }
   ],
   "source": [
    "courses = c\n",
    "values = v\n",
    "\n",
    "fig = plt.figure(figsize = (20, 5))\n",
    "\n",
    "plt.bar(courses, values, color=(0.2, 0.4, 0.6, 0.6),\n",
    "        width = 0.4)"
   ]
  },
  {
   "cell_type": "code",
   "execution_count": 72,
   "id": "a5fe4146",
   "metadata": {},
   "outputs": [],
   "source": [
    "dd = pd.DataFrame(total_artist_tfidf,columns=artist_names,index=user_ids)"
   ]
  },
  {
   "cell_type": "code",
   "execution_count": 73,
   "id": "187f2d66",
   "metadata": {},
   "outputs": [
    {
     "name": "stdout",
     "output_type": "stream",
     "text": [
      "82580\n"
     ]
    }
   ],
   "source": [
    "column_length = len(dd.columns)\n",
    "column_name = list(dd.columns)\n",
    "column_total = [ ]#每個column所有user權重加總\n",
    "for i in range(column_length):\n",
    "    column_list = dd[column_name[i]].to_list()\n",
    "    total = 0\n",
    "    for j in range(len(column_list)):\n",
    "        total = total + column_list[j]\n",
    "    column_total.append(total)\n",
    "print(len(column_total))"
   ]
  },
  {
   "cell_type": "code",
   "execution_count": 74,
   "id": "bdb8f2ff",
   "metadata": {},
   "outputs": [
    {
     "data": {
      "text/plain": [
       "33"
      ]
     },
     "execution_count": 74,
     "metadata": {},
     "output_type": "execute_result"
    }
   ],
   "source": [
    "threshold = 15\n",
    "arr_d = np.array(column_total)\n",
    "k = list(np.where(arr_d>threshold))[0]\n",
    "len(k)"
   ]
  },
  {
   "cell_type": "code",
   "execution_count": 75,
   "id": "7d1511ff",
   "metadata": {},
   "outputs": [],
   "source": [
    "c = []\n",
    "v = []\n",
    "for i in range(len(k)):\n",
    "    c.append(column_name[k[i]])\n",
    "    v.append(column_total[k[i]])"
   ]
  },
  {
   "cell_type": "code",
   "execution_count": 76,
   "id": "135a8fdb",
   "metadata": {},
   "outputs": [
    {
     "data": {
      "text/html": [
       "<div>\n",
       "<style scoped>\n",
       "    .dataframe tbody tr th:only-of-type {\n",
       "        vertical-align: middle;\n",
       "    }\n",
       "\n",
       "    .dataframe tbody tr th {\n",
       "        vertical-align: top;\n",
       "    }\n",
       "\n",
       "    .dataframe thead th {\n",
       "        text-align: right;\n",
       "    }\n",
       "</style>\n",
       "<table border=\"1\" class=\"dataframe\">\n",
       "  <thead>\n",
       "    <tr style=\"text-align: right;\">\n",
       "      <th></th>\n",
       "      <th>ワン・ズーチー</th>\n",
       "      <th>和泉修</th>\n",
       "      <th>ナムグン・ミン</th>\n",
       "      <th>パク・ウンビン</th>\n",
       "      <th>ジェン・イェチョン</th>\n",
       "      <th>チェ・ウン</th>\n",
       "      <th>ナ・ヘミ</th>\n",
       "      <th>コ・ボンファン</th>\n",
       "      <th>ジャオ・ヤオコー</th>\n",
       "      <th>ヤン・ティンドン[楊廷東]</th>\n",
       "      <th>...</th>\n",
       "      <th>チョン・ミナ</th>\n",
       "      <th>ト・ジウォン</th>\n",
       "      <th>フー・イーシュエン</th>\n",
       "      <th>チョン・ドンユン</th>\n",
       "      <th>木村魚拓</th>\n",
       "      <th>ヤン・リン</th>\n",
       "      <th>スー・シャオトン</th>\n",
       "      <th>ダソム</th>\n",
       "      <th>ガオ・ツォンカイ</th>\n",
       "      <th>ジョンホン</th>\n",
       "    </tr>\n",
       "  </thead>\n",
       "  <tbody>\n",
       "    <tr>\n",
       "      <th>tf-idf</th>\n",
       "      <td>27.115598</td>\n",
       "      <td>40.690269</td>\n",
       "      <td>16.719123</td>\n",
       "      <td>15.208648</td>\n",
       "      <td>36.211295</td>\n",
       "      <td>17.030859</td>\n",
       "      <td>17.030859</td>\n",
       "      <td>17.030859</td>\n",
       "      <td>26.292443</td>\n",
       "      <td>26.292443</td>\n",
       "      <td>...</td>\n",
       "      <td>17.030859</td>\n",
       "      <td>18.135342</td>\n",
       "      <td>36.211295</td>\n",
       "      <td>15.208648</td>\n",
       "      <td>16.706119</td>\n",
       "      <td>36.211295</td>\n",
       "      <td>26.292443</td>\n",
       "      <td>24.714762</td>\n",
       "      <td>36.211295</td>\n",
       "      <td>17.030859</td>\n",
       "    </tr>\n",
       "  </tbody>\n",
       "</table>\n",
       "<p>1 rows × 33 columns</p>\n",
       "</div>"
      ],
      "text/plain": [
       "          ワン・ズーチー        和泉修    ナムグン・ミン    パク・ウンビン  ジェン・イェチョン      チェ・ウン  \\\n",
       "tf-idf  27.115598  40.690269  16.719123  15.208648  36.211295  17.030859   \n",
       "\n",
       "             ナ・ヘミ    コ・ボンファン   ジャオ・ヤオコー  ヤン・ティンドン[楊廷東]  ...     チョン・ミナ  \\\n",
       "tf-idf  17.030859  17.030859  26.292443      26.292443  ...  17.030859   \n",
       "\n",
       "           ト・ジウォン  フー・イーシュエン   チョン・ドンユン       木村魚拓      ヤン・リン   スー・シャオトン  \\\n",
       "tf-idf  18.135342  36.211295  15.208648  16.706119  36.211295  26.292443   \n",
       "\n",
       "              ダソム   ガオ・ツォンカイ      ジョンホン  \n",
       "tf-idf  24.714762  36.211295  17.030859  \n",
       "\n",
       "[1 rows x 33 columns]"
      ]
     },
     "execution_count": 76,
     "metadata": {},
     "output_type": "execute_result"
    }
   ],
   "source": [
    "d = pd.DataFrame(v,columns=['tf-idf'],index=c)\n",
    "d.T"
   ]
  },
  {
   "cell_type": "code",
   "execution_count": 78,
   "id": "acf60869",
   "metadata": {},
   "outputs": [
    {
     "name": "stdout",
     "output_type": "stream",
     "text": [
      "和泉修\n",
      "mari\n"
     ]
    }
   ],
   "source": [
    "f = np.array(v) #這段期間最有話題性的藝人\n",
    "max = f.max()\n",
    "index = list(np.where(f==max))[0]\n",
    "for i in range(len(index)):\n",
    "    print(c[index[i]])"
   ]
  },
  {
   "cell_type": "markdown",
   "id": "779da846",
   "metadata": {},
   "source": [
    "### 不考慮時間考慮行為(加總七天後算tfidf*行為)"
   ]
  },
  {
   "cell_type": "code",
   "execution_count": null,
   "id": "ab3403ba",
   "metadata": {},
   "outputs": [],
   "source": [
    "total_genre_tfidf = np.zeros((id_length,genre_length),dtype=float)\n",
    "total_artist_tfidf = np.zeros((id_length,artist_length),dtype=float)\n",
    "for i in range(7):\n",
    "    total_genre_tfidf = genre_tfidf[i] + total_genre_tfidf\n",
    "    total_artist_tfidf = artist_tfidf[i] + total_artist_tfidf"
   ]
  },
  {
   "cell_type": "code",
   "execution_count": null,
   "id": "ab35e9ef",
   "metadata": {},
   "outputs": [],
   "source": [
    "# artist_interaction_zero_arr\n",
    "# genre_interaction_zero_arr\n",
    "actionG = np.zeros((6,id_length,genre_length),dtype=float) #各自動作的七天加總\n",
    "actionA = np.zeros((6,id_length,artist_length),dtype=float)\n",
    "\n",
    "total_actionG_tfidf = np.zeros((id_length,genre_length),dtype=float)\n",
    "total_actionA_tfidf = np.zeros((id_length,artist_length),dtype=float)\n",
    "for i in range(6):\n",
    "    for j in range(7):\n",
    "        actionG[i] = genre_interaction_zero_arr[i][j] + actionG[i]\n",
    "        actionA[i] = artist_interaction_zero_arr[i][j] + actionA[i]\n",
    "for i in range(len(action_weight_list)):\n",
    "    total_actionG_tfidf = total_actionG_tfidf + action_weight_list[i] * actionG[i] * total_genre_tfidf\n",
    "    total_actionA_tfidf = total_actionA_tfidf + action_weight_list[i] * actionA[i] * total_artist_tfidf"
   ]
  },
  {
   "cell_type": "code",
   "execution_count": null,
   "id": "b99a402c",
   "metadata": {},
   "outputs": [],
   "source": []
  },
  {
   "cell_type": "code",
   "execution_count": null,
   "id": "84013fde",
   "metadata": {},
   "outputs": [],
   "source": []
  },
  {
   "cell_type": "code",
   "execution_count": null,
   "id": "f09df9c4",
   "metadata": {},
   "outputs": [],
   "source": []
  },
  {
   "cell_type": "code",
   "execution_count": null,
   "id": "af48cfbb",
   "metadata": {},
   "outputs": [],
   "source": []
  },
  {
   "cell_type": "code",
   "execution_count": null,
   "id": "606f7f69",
   "metadata": {},
   "outputs": [],
   "source": []
  },
  {
   "cell_type": "code",
   "execution_count": null,
   "id": "38d44d5b",
   "metadata": {},
   "outputs": [],
   "source": []
  },
  {
   "cell_type": "code",
   "execution_count": null,
   "id": "fefd0b03",
   "metadata": {},
   "outputs": [],
   "source": []
  },
  {
   "cell_type": "code",
   "execution_count": null,
   "id": "834afecb",
   "metadata": {},
   "outputs": [],
   "source": []
  },
  {
   "cell_type": "code",
   "execution_count": null,
   "id": "bac3b91c",
   "metadata": {},
   "outputs": [],
   "source": []
  },
  {
   "cell_type": "code",
   "execution_count": null,
   "id": "b15a1211",
   "metadata": {},
   "outputs": [],
   "source": []
  },
  {
   "cell_type": "markdown",
   "id": "b8c847f2",
   "metadata": {},
   "source": [
    "## 加總七天"
   ]
  },
  {
   "cell_type": "code",
   "execution_count": null,
   "id": "592821e0",
   "metadata": {},
   "outputs": [],
   "source": []
  },
  {
   "cell_type": "markdown",
   "id": "3ea4c2fb",
   "metadata": {},
   "source": [
    "### 不考慮時間與行為(加總七天後算tfidf)"
   ]
  },
  {
   "cell_type": "code",
   "execution_count": null,
   "id": "43f832c1",
   "metadata": {},
   "outputs": [],
   "source": []
  },
  {
   "cell_type": "markdown",
   "id": "c7ac8036",
   "metadata": {},
   "source": [
    "### 不考慮時間考慮行為(加總七天後算tfidf)"
   ]
  },
  {
   "cell_type": "markdown",
   "id": "048b35ee",
   "metadata": {},
   "source": []
  }
 ],
 "metadata": {
  "kernelspec": {
   "display_name": "Python 3.8.13 ('pytorch_envs')",
   "language": "python",
   "name": "python3"
  },
  "language_info": {
   "codemirror_mode": {
    "name": "ipython",
    "version": 3
   },
   "file_extension": ".py",
   "mimetype": "text/x-python",
   "name": "python",
   "nbconvert_exporter": "python",
   "pygments_lexer": "ipython3",
   "version": "3.8.13"
  },
  "vscode": {
   "interpreter": {
    "hash": "e44b5b10871b1d8f68e31fd93a6216d63663739468fad5dfb044b80d934bc31c"
   }
  }
 },
 "nbformat": 4,
 "nbformat_minor": 5
}
